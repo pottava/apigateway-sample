{
 "cells": [
  {
   "cell_type": "markdown",
   "metadata": {},
   "source": [
    "# 1. Google Cloud: API Gateway の使い方\n",
    "\n",
    "[Cloud Run](https://cloud.google.com/run?hl=ja) をバックエンドに、API Gateway をセットアップしてみましょう。\n",
    "\n",
    "## 1.1. 変数・初期値の設定\n",
    "\n",
    "本セクションで利用する環境変数・初期値を設定します。"
   ]
  },
  {
   "cell_type": "code",
   "execution_count": null,
   "metadata": {},
   "outputs": [],
   "source": [
    "project_number=\"$(gcloud projects describe ${PROJECT_ID} --format='value(projectNumber)')\"\n",
    "api_name=\"my-apis\"\n",
    "gateway_name=\"prod-gateway\"\n",
    "service_account=\"${project_number}-compute@developer.gserviceaccount.com\"\n",
    "echo \"Service account: ${service_account}\""
   ]
  },
  {
   "cell_type": "markdown",
   "metadata": {},
   "source": [
    "応答例）\n",
    "```text\n",
    "Service Account: 12345678901-compute@developer.gserviceaccount.com\n",
    "```"
   ]
  },
  {
   "cell_type": "code",
   "execution_count": null,
   "metadata": {},
   "outputs": [],
   "source": [
    "gcloud config set compute/region asia-northeast1\n",
    "gcloud config set compute/zone asia-northeast1-a\n",
    "gcloud config set run/region asia-northeast1\n",
    "gcloud config set run/platform managed"
   ]
  },
  {
   "cell_type": "markdown",
   "metadata": {},
   "source": [
    "応答例）\n",
    "```text\n",
    "Updated property [compute/region].\n",
    "Updated property [compute/zone].\n",
    "Updated property [run/region].\n",
    "Updated property [run/platform].\n",
    "```"
   ]
  },
  {
   "cell_type": "markdown",
   "metadata": {},
   "source": [
    "## 1.2. API の有効化\n",
    "\n",
    "利用するサービス群を有効化します。"
   ]
  },
  {
   "cell_type": "code",
   "execution_count": null,
   "metadata": {},
   "outputs": [],
   "source": [
    "gcloud services enable apigateway.googleapis.com\n",
    "gcloud services enable servicemanagement.googleapis.com\n",
    "gcloud services enable servicecontrol.googleapis.com"
   ]
  },
  {
   "cell_type": "markdown",
   "metadata": {},
   "source": [
    "## 1.3. API Gateway の作成"
   ]
  },
  {
   "cell_type": "markdown",
   "metadata": {},
   "source": [
    "API Gateway のバックエンドとして Cloud Run を利用します。  \n",
    "コンテナに渡された環境変数や [クラウドのメタデータサーバ](https://cloud.google.com/compute/docs/storing-retrieving-metadata?hl=ja) にアクセスした結果を返す [REST API](https://github.com/pottava/http-return-everything) を Cloud Run にデプロイします。"
   ]
  },
  {
   "cell_type": "code",
   "execution_count": null,
   "metadata": {
    "scrolled": true
   },
   "outputs": [],
   "source": [
    "gcloud run deploy backend-apis --image gcr.io/pottava/re:v2.0 \\\n",
    "    --set-env-vars ENABLE_GCP=1,ENABLE_AWS=0"
   ]
  },
  {
   "cell_type": "markdown",
   "metadata": {},
   "source": [
    "応答例）\n",
    "```text\n",
    "..\n",
    "Done.                                                                          \n",
    "Service [backend-apis] revision [backend-apis-00001-xxx] has been deployed and is serving 100 percent of traffic.\n",
    "Service URL: https://backend-apis-xxxxxx-an.a.run.app\n",
    "```"
   ]
  },
  {
   "cell_type": "markdown",
   "metadata": {},
   "source": [
    "デプロイされた [Cloud Run サービスのエンドポイントをバックエンドとした API の定義](resources/v1.yaml) を作成し、API Gateway の設定を v1 として作成します。"
   ]
  },
  {
   "cell_type": "code",
   "execution_count": null,
   "metadata": {
    "scrolled": true
   },
   "outputs": [],
   "source": [
    "api_endpoint=\"$(gcloud run services describe backend-apis --format 'value(status.url)')\"\n",
    "find resources -type f -name \"*.yaml\" | xargs sed -ie \"s|<backend-apis>|${api_endpoint}|g\"\n",
    "gcloud beta api-gateway api-configs create v1 \\\n",
    "    --api=\"${api_name}\" --openapi-spec=resources/v1.yaml \\\n",
    "    --backend-auth-service-account=\"${service_account}\""
   ]
  },
  {
   "cell_type": "markdown",
   "metadata": {},
   "source": [
    "[次へ: 05-teardown-resources.ipynb](05-teardown-resources.ipynb)"
   ]
  }
 ],
 "metadata": {
  "kernelspec": {
   "display_name": "Bash",
   "language": "bash",
   "name": "bash"
  },
  "language_info": {
   "codemirror_mode": "shell",
   "file_extension": ".sh",
   "mimetype": "text/x-sh",
   "name": "bash"
  }
 },
 "nbformat": 4,
 "nbformat_minor": 4
}
