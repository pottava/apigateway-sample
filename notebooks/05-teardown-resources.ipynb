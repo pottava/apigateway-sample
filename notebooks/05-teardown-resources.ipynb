{
 "cells": [
  {
   "cell_type": "markdown",
   "metadata": {},
   "source": [
    "# 5. リソースの削除\n",
    "\n",
    "## 5.1. API Gateway のゲートウェイを削除\n",
    "\n",
    "ゲートウェイを削除し、外部画から接続できないことを確認します。"
   ]
  },
  {
   "cell_type": "code",
   "execution_count": null,
   "metadata": {},
   "outputs": [],
   "source": [
    "gcloud beta api-gateway gateways update \"${gateway_name}\""
   ]
  },
  {
   "cell_type": "markdown",
   "metadata": {},
   "source": [
    "最後までお付き合いいただきありがとうございました。  \n",
    "ハンズオンは以上です！"
   ]
  }
 ],
 "metadata": {
  "kernelspec": {
   "display_name": "Bash",
   "language": "bash",
   "name": "bash"
  },
  "language_info": {
   "codemirror_mode": "shell",
   "file_extension": ".sh",
   "mimetype": "text/x-sh",
   "name": "bash"
  }
 },
 "nbformat": 4,
 "nbformat_minor": 2
}
