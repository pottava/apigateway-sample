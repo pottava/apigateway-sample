{
 "cells": [
  {
   "cell_type": "markdown",
   "metadata": {},
   "source": [
    "# 1. Google Cloud: API Gateway の使い方\n",
    "\n",
    "[Cloud Run](https://cloud.google.com/run?hl=ja) をバックエンドに、API Gateway をセットアップしてみましょう。\n",
    "\n",
    "## 1.1. このセクションのゴール\n",
    "\n",
    "prod-gateway というゲートウェイと 2 つの構成ををもつ、my-apis と名付けた API を定義します。  \n",
    "バックエンドには 2 つの Cloud Run サービスをもち、API エンドポイントによって接続先をルーティングします。\n",
    "\n",
    "<img src=\"notebook-assets/1-1-goal.png\" width=70%>"
   ]
  },
  {
   "cell_type": "markdown",
   "metadata": {},
   "source": [
    "## 1.2. 変数・初期値の設定\n",
    "\n",
    "本セクションで利用する環境変数・初期値を設定します。"
   ]
  },
  {
   "cell_type": "code",
   "execution_count": null,
   "metadata": {},
   "outputs": [],
   "source": [
    "project_number=\"$(gcloud projects describe ${PROJECT_ID} --format='value(projectNumber)')\"\n",
    "echo \"Project number:  ${project_number}\"\n",
    "\n",
    "cat << EOF > /home/jupyter/config/.env\n",
    "export api_name=\"my-apis\"\n",
    "export gateway_name=\"prod-gateway\"\n",
    "export service_account=\"${project_number}-compute@developer.gserviceaccount.com\"\n",
    "EOF\n",
    "source /home/jupyter/config/.env\n",
    "echo \"Service account: ${service_account}\""
   ]
  },
  {
   "cell_type": "markdown",
   "metadata": {},
   "source": [
    "応答例）\n",
    "```text\n",
    "Project number:  12345678901\n",
    "Service Account: 12345678901-compute@developer.gserviceaccount.com\n",
    "```"
   ]
  },
  {
   "cell_type": "code",
   "execution_count": null,
   "metadata": {},
   "outputs": [],
   "source": [
    "gcloud config set compute/region asia-northeast1\n",
    "gcloud config set compute/zone asia-northeast1-a\n",
    "gcloud config set run/region asia-northeast1\n",
    "gcloud config set run/platform managed"
   ]
  },
  {
   "cell_type": "markdown",
   "metadata": {},
   "source": [
    "応答例）\n",
    "```text\n",
    "Updated property [compute/region].\n",
    "Updated property [compute/zone].\n",
    "Updated property [run/region].\n",
    "Updated property [run/platform].\n",
    "```"
   ]
  },
  {
   "cell_type": "markdown",
   "metadata": {},
   "source": [
    "## 1.3. API の有効化\n",
    "\n",
    "利用するサービス群を有効化します。"
   ]
  },
  {
   "cell_type": "code",
   "execution_count": null,
   "metadata": {},
   "outputs": [],
   "source": [
    "echo \"Enable Cloud Run API\"\n",
    "gcloud services enable run.googleapis.com\n",
    "echo \"Enable API Gateway API\"\n",
    "gcloud services enable apigateway.googleapis.com\n",
    "echo \"Enable Service Management API\"\n",
    "gcloud services enable servicemanagement.googleapis.com\n",
    "echo \"Enable Service Control API\"\n",
    "gcloud services enable servicecontrol.googleapis.com"
   ]
  },
  {
   "cell_type": "markdown",
   "metadata": {},
   "source": [
    "## 1.4. API Gateway の作成"
   ]
  },
  {
   "cell_type": "markdown",
   "metadata": {},
   "source": [
    "API Gateway のバックエンドとして Cloud Run を利用します。  \n",
    "\n",
    "<img src=\"notebook-assets/1-4-run.png\" width=70%>\n",
    "\n",
    "コンテナに渡された環境変数や [クラウドのメタデータサーバ](https://cloud.google.com/compute/docs/storing-retrieving-metadata?hl=ja) にアクセスした結果を返す [REST API](https://github.com/pottava/http-return-everything) を Cloud Run にデプロイします。**エンドポイントは認証されたユーザーからのみアクセスを受け付ける、デフォルトの設定で作成**します。もし誰からでも接続を受け付けたい場合は `--allow-unauthenticated` オプションを付与してください。"
   ]
  },
  {
   "cell_type": "code",
   "execution_count": null,
   "metadata": {
    "scrolled": true
   },
   "outputs": [],
   "source": [
    "gcloud run deploy backend-apis --image gcr.io/pottava/re:v2.0 \\\n",
    "    --set-env-vars ENABLE_GCP=1,ENABLE_AWS=0 --quiet"
   ]
  },
  {
   "cell_type": "markdown",
   "metadata": {},
   "source": [
    "応答例）\n",
    "```text\n",
    "..\n",
    "Done.                                                                          \n",
    "Service [backend-apis] revision [backend-apis-00001-xxx] has been deployed and is serving 100 percent of traffic.\n",
    "Service URL: https://backend-apis-xxxxxx-an.a.run.app\n",
    "```"
   ]
  },
  {
   "cell_type": "markdown",
   "metadata": {},
   "source": [
    "デプロイされた [Cloud Run サービスのエンドポイントをバックエンドとした API の定義](resources/v1.yaml) を作成し、API Gateway の設定を v1 として作成します。API そのものと設定を作成するため、完了まで **5 分前後かかります**。\n",
    "\n",
    "<img src=\"notebook-assets/1-4-config.png\" width=70%>\n",
    "<img src=\"notebook-assets/1-4-yaml.png\" width=40%>\n"
   ]
  },
  {
   "cell_type": "code",
   "execution_count": null,
   "metadata": {},
   "outputs": [],
   "source": [
    "api_endpoint=\"$(gcloud run services describe backend-apis --format 'value(status.url)')\"\n",
    "echo \"Backend: ${api_endpoint}\"\n",
    "\n",
    "find resources -type f -name \"*.yaml\" | xargs sed -ie \"s|<backend-apis>|${api_endpoint}|g\"\n",
    "\n",
    "gcloud beta api-gateway api-configs create v1 \\\n",
    "    --api=\"${api_name}\" --openapi-spec=resources/v1.yaml \\\n",
    "    --backend-auth-service-account=\"${service_account}\""
   ]
  },
  {
   "cell_type": "markdown",
   "metadata": {},
   "source": [
    "応答例）\n",
    "```text\n",
    "Backend: https://backend-apis-xxxxxx-an.a.run.app\n",
    "Waiting for API [my-apis] to be created...done.\n",
    "Waiting for API Config [v1] to be created for API [my-apis]...done. \n",
    "```"
   ]
  },
  {
   "cell_type": "markdown",
   "metadata": {},
   "source": [
    "作成した v1 の設定で、実際に外部からの接続を受け付けるゲートウェイを作成します。5 分ほど待って応答が返ってきたら、そのエンドポイントにアクセスし、REST API から応答があることを確認してみましょう。\n",
    "\n",
    "<img src=\"notebook-assets/1-4-gateway.png\" width=70%>"
   ]
  },
  {
   "cell_type": "code",
   "execution_count": null,
   "metadata": {},
   "outputs": [],
   "source": [
    "gcloud beta api-gateway gateways create \"${gateway_name}\" --location=asia-east1 \\\n",
    "    --api=\"${api_name}\" --api-config=v1\n",
    "echo \"Endpoint: https://$( gcloud beta api-gateway gateways describe ${gateway_name} \\\n",
    "    --location=asia-east1 --format 'value(defaultHostname)' )\""
   ]
  },
  {
   "cell_type": "markdown",
   "metadata": {},
   "source": [
    "応答例）\n",
    "```text\n",
    "Waiting for API Gateway [prod-gateway] to be created with [projects/your-project-id/locations/global/apis/my-apis/configs/v1] config...done.                    \n",
    "Endpoint: https://prod-gateway-xxxxxxx.de.gateway.dev \n",
    "```"
   ]
  },
  {
   "cell_type": "code",
   "execution_count": null,
   "metadata": {},
   "outputs": [],
   "source": [
    "curl -s \"https://$( gcloud beta api-gateway gateways describe ${gateway_name} \\\n",
    "    --location=asia-east1 --format 'value(defaultHostname)' )\" | jq -r '.googlecloud.gce.zone'"
   ]
  },
  {
   "cell_type": "markdown",
   "metadata": {},
   "source": [
    "応答例）\n",
    "```text\n",
    "projects/12345678901/zones/asia-northeast1-1\n",
    "```"
   ]
  },
  {
   "cell_type": "markdown",
   "metadata": {},
   "source": [
    "## 1.5. Gateway aggregation pattern への更新"
   ]
  },
  {
   "cell_type": "markdown",
   "metadata": {},
   "source": [
    "パスベース ルーティングにより、異なる API サービスをまとめることができることを見ていきましょう。  \n",
    "ここでは、API Gateway のバックエンドとして 2 つの Cloud Run サービスを設定します。  \n",
    "まずは 2 つ目の Cloud Run をデプロイします。\n",
    "\n",
    "<img src=\"notebook-assets/1-5-run.png\" width=70%>"
   ]
  },
  {
   "cell_type": "code",
   "execution_count": null,
   "metadata": {
    "scrolled": true
   },
   "outputs": [],
   "source": [
    "gcloud run deploy backend-errs --image gcr.io/pottava/errs:v1.1 --quiet"
   ]
  },
  {
   "cell_type": "markdown",
   "metadata": {},
   "source": [
    "応答例）\n",
    "```text\n",
    "..\n",
    "Done.                                                                          \n",
    "Service [backend-errs] revision [backend-errs-00001-xxx] has been deployed and is serving 100 percent of traffic.\n",
    "Service URL: https://backend-errs-xxxxxx-an.a.run.app\n",
    "```"
   ]
  },
  {
   "cell_type": "markdown",
   "metadata": {},
   "source": [
    "[2 つの REST API を集約した 1 つの API 定義](resources/v2.yaml) を作成し、それを設定 v2 として登録します。\n",
    "\n",
    "<img src=\"notebook-assets/1-5-config.png\" width=70%>"
   ]
  },
  {
   "cell_type": "code",
   "execution_count": null,
   "metadata": {},
   "outputs": [],
   "source": [
    "err_endpoint=\"$(gcloud run services describe backend-errs --format 'value(status.url)')\"\n",
    "echo \"Backend: ${err_endpoint}\"\n",
    "find resources -type f -name \"*.yaml\" | xargs sed -ie \"s|<backend-errs>|${err_endpoint}|g\"\n",
    "gcloud beta api-gateway api-configs create v2 \\\n",
    "    --api=\"${api_name}\" --openapi-spec=resources/v2.yaml \\\n",
    "    --backend-auth-service-account=\"${service_account}\""
   ]
  },
  {
   "cell_type": "markdown",
   "metadata": {},
   "source": [
    "応答例）\n",
    "```text\n",
    "Backend: https://backend-errs-xxxxxx-an.a.run.app\n",
    "Waiting for API Config [v2] to be created for API [my-apis]...done. \n",
    "```"
   ]
  },
  {
   "cell_type": "markdown",
   "metadata": {},
   "source": [
    "新しく作成した v2 の設定をゲートウェイに適用し、その挙動を変えてみます。\n",
    "\n",
    "<img src=\"notebook-assets/1-1-goal.png\" width=70%>"
   ]
  },
  {
   "cell_type": "code",
   "execution_count": null,
   "metadata": {},
   "outputs": [],
   "source": [
    "gcloud beta api-gateway gateways update \"${gateway_name}\" --location=asia-east1 \\\n",
    "    --api=\"${api_name}\" --api-config=v2"
   ]
  },
  {
   "cell_type": "markdown",
   "metadata": {},
   "source": [
    "応答例）\n",
    "```text\n",
    "Waiting for API Gateway [prod-gateway] to be updated...done.\n",
    "```"
   ]
  },
  {
   "cell_type": "markdown",
   "metadata": {},
   "source": [
    "応答が変わったことを確認してみましょう。/errors/ 以下の API も同時に使えるようになっています。"
   ]
  },
  {
   "cell_type": "code",
   "execution_count": null,
   "metadata": {},
   "outputs": [],
   "source": [
    "curl -i -XGET \"https://$( gcloud beta api-gateway gateways describe ${gateway_name} \\\n",
    "    --location=asia-east1 --format 'value(defaultHostname)' )/errors/400\""
   ]
  },
  {
   "cell_type": "markdown",
   "metadata": {},
   "source": [
    "応答例）\n",
    "```text\n",
    "HTTP/2 400 \n",
    "content-type: text/plain; charset=UTF-8\n",
    "..\n",
    "server: Google Frontend\n",
    "..\n",
    "\n",
    "400 Bad Request\n",
    "```"
   ]
  },
  {
   "cell_type": "markdown",
   "metadata": {},
   "source": [
    "[次へ: 5-teardown-resources.ipynb](5-teardown-resources.ipynb)"
   ]
  }
 ],
 "metadata": {
  "kernelspec": {
   "display_name": "Bash",
   "language": "bash",
   "name": "bash"
  },
  "language_info": {
   "codemirror_mode": "shell",
   "file_extension": ".sh",
   "mimetype": "text/x-sh",
   "name": "bash"
  }
 },
 "nbformat": 4,
 "nbformat_minor": 4
}
