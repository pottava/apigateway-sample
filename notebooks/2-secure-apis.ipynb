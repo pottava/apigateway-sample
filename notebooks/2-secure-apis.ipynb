{
 "cells": [
  {
   "cell_type": "markdown",
   "metadata": {},
   "source": [
    "# 2. API の保護\n",
    "\n",
    "API Gateway の接続に API キーを要求するようセットアップしてみましょう。\n",
    "\n",
    "## 2.1. 変数・初期値の設定\n",
    "\n",
    "これまで利用してきた環境変数を再設定します。"
   ]
  },
  {
   "cell_type": "code",
   "execution_count": null,
   "metadata": {},
   "outputs": [],
   "source": [
    "source /home/jupyter/config/.env\n",
    "echo \"Gateway name: ${gateway_name}\""
   ]
  },
  {
   "cell_type": "markdown",
   "metadata": {},
   "source": [
    "応答例）\n",
    "```text\n",
    "Gateway name: prod-gateway\n",
    "```"
   ]
  },
  {
   "cell_type": "markdown",
   "metadata": {},
   "source": [
    "## 2.2. API キーを要求するゲートウェイへの更新\n",
    "\n",
    "[API キーを securityDefinitions に指定した API 定義](resources/v3.yaml) を作成し、それを構成 v3 として登録します。\n",
    "\n",
    "<img src=\"notebook-assets/2-2-config.png\" width=70%>"
   ]
  },
  {
   "cell_type": "code",
   "execution_count": null,
   "metadata": {},
   "outputs": [],
   "source": [
    "cat resources/v3.yaml | grep -A 4 securityDefinitions\n",
    "echo \"---\"\n",
    "cat resources/v3.yaml | grep -A 1 security:"
   ]
  },
  {
   "cell_type": "markdown",
   "metadata": {},
   "source": [
    "API キーを必要とする API に `security` を指定し、この設定で構成 v3 を作成します。"
   ]
  },
  {
   "cell_type": "code",
   "execution_count": null,
   "metadata": {},
   "outputs": [],
   "source": [
    "gcloud beta api-gateway api-configs create v3 \\\n",
    "    --api=\"${api_name}\" --openapi-spec=resources/v3.yaml \\\n",
    "    --backend-auth-service-account=\"${service_account}\""
   ]
  },
  {
   "cell_type": "markdown",
   "metadata": {},
   "source": [
    "応答例）\n",
    "```text\n",
    "Waiting for API Config [v3] to be created for API [my-apis]...done. \n",
    "```"
   ]
  },
  {
   "cell_type": "markdown",
   "metadata": {},
   "source": [
    "新しく作成した v3 の構成をゲートウェイに適用し、その挙動を変えてみます。\n",
    "\n",
    "<img src=\"notebook-assets/2-2-gateway.png\" width=70%>"
   ]
  },
  {
   "cell_type": "code",
   "execution_count": null,
   "metadata": {},
   "outputs": [],
   "source": [
    "gcloud beta api-gateway gateways update \"${gateway_name}\" --location=asia-east1 \\\n",
    "    --api=\"${api_name}\" --api-config=v3"
   ]
  },
  {
   "cell_type": "markdown",
   "metadata": {},
   "source": [
    "応答例）\n",
    "```text\n",
    "Waiting for API Gateway [prod-gateway] to be updated...done.\n",
    "```"
   ]
  },
  {
   "cell_type": "markdown",
   "metadata": {},
   "source": [
    "認証が必要だとエラー応答になることを確認してみましょう。"
   ]
  },
  {
   "cell_type": "code",
   "execution_count": null,
   "metadata": {},
   "outputs": [],
   "source": [
    "curl -i -XGET \"https://$( gcloud beta api-gateway gateways describe ${gateway_name} \\\n",
    "    --location=asia-east1 --format 'value(defaultHostname)' )\""
   ]
  },
  {
   "cell_type": "markdown",
   "metadata": {},
   "source": [
    "応答例）\n",
    "```text\n",
    "HTTP/2 401\n",
    "content-type: application/json\n",
    "..\n",
    "\n",
    "{\"message\":\"UNAUTHENTICATED:Method doesn't allow unregistered callers (callers without established identity). Please use API Key or other form of API consumer identity to call this API.\",\"code\":401}\n",
    "```"
   ]
  },
  {
   "cell_type": "markdown",
   "metadata": {},
   "source": [
    "## 2.3. API の有効化\n",
    "\n",
    "以下のように API キーを利用することで、正常にアクセスできることを見ていきます。\n",
    "\n",
    "<img src=\"notebook-assets/2-3-gateway.png\" width=70%>\n",
    "\n",
    "まず、Google Cloud のその他の API 同様に、設定やキー生成を利用できるよう本 API を有効化します。"
   ]
  },
  {
   "cell_type": "code",
   "execution_count": null,
   "metadata": {},
   "outputs": [],
   "source": [
    "gcloud services enable \"$( gcloud beta api-gateway apis describe \"${api_name}\" --format 'value(managedService)' )\""
   ]
  },
  {
   "cell_type": "markdown",
   "metadata": {},
   "source": [
    "以下の結果で表示されるコンソールから API キーを作成します。"
   ]
  },
  {
   "cell_type": "code",
   "execution_count": null,
   "metadata": {},
   "outputs": [],
   "source": [
    "echo \"https://console.cloud.google.com/apis/api/$( gcloud beta api-gateway apis describe \"${api_name}\" \\\n",
    "    --format 'value(managedService)' )/credentials?project=${PROJECT_ID}\""
   ]
  },
  {
   "cell_type": "markdown",
   "metadata": {},
   "source": [
    "　\n",
    "\n",
    "<img src=\"notebook-assets/2-3-key.png\" width=50%>\n",
    "\n",
    "作成した API キーを環境変数 `api_key` とすれば、以下のような要求が正常に応答することが確認できます。"
   ]
  },
  {
   "cell_type": "code",
   "execution_count": null,
   "metadata": {},
   "outputs": [],
   "source": [
    "api_key=<your-api-key>\n",
    "curl -s \"https://$( gcloud beta api-gateway gateways describe ${gateway_name} \\\n",
    "    --location=asia-east1 --format 'value(defaultHostname)' )?key=${api_key}\" \\\n",
    "    | jq -r '.req.remote_addr'"
   ]
  },
  {
   "cell_type": "markdown",
   "metadata": {},
   "source": [
    "応答例）\n",
    "```text\n",
    "10.123.12.123:21350\n",
    "```"
   ]
  },
  {
   "cell_type": "markdown",
   "metadata": {},
   "source": [
    "[次へ: 5-teardown-resources.ipynb](5-teardown-resources.ipynb)"
   ]
  }
 ],
 "metadata": {
  "kernelspec": {
   "display_name": "Bash",
   "language": "bash",
   "name": "bash"
  },
  "language_info": {
   "codemirror_mode": "shell",
   "file_extension": ".sh",
   "mimetype": "text/x-sh",
   "name": "bash"
  }
 },
 "nbformat": 4,
 "nbformat_minor": 4
}
