{
 "cells": [
  {
   "cell_type": "markdown",
   "metadata": {},
   "source": [
    "# 5. リソースの削除\n",
    "\n",
    "## 5.1. API Gateway のゲートウェイを削除\n",
    "\n",
    "ゲートウェイを削除し、外部から接続できないことを確認します。  \n",
    "これまで利用してきた環境変数を再設定します。"
   ]
  },
  {
   "cell_type": "code",
   "execution_count": null,
   "metadata": {},
   "outputs": [],
   "source": [
    "source /home/jupyter/config/.env\n",
    "echo \"Gateway name: ${gateway_name}\""
   ]
  },
  {
   "cell_type": "markdown",
   "metadata": {},
   "source": [
    "応答例）\n",
    "```text\n",
    "Gateway name: prod-gateway\n",
    "```"
   ]
  },
  {
   "cell_type": "code",
   "execution_count": null,
   "metadata": {},
   "outputs": [],
   "source": [
    "gcloud beta api-gateway gateways delete \"${gateway_name}\" --location=asia-east1 --quiet"
   ]
  },
  {
   "cell_type": "markdown",
   "metadata": {},
   "source": [
    "応答例）\n",
    "```text\n",
    "??\n",
    "```"
   ]
  },
  {
   "cell_type": "code",
   "execution_count": null,
   "metadata": {},
   "outputs": [],
   "source": [
    "echo \"Delete v3 config\"\n",
    "gcloud beta api-gateway api-configs delete v3 --api=\"${api_name}\" --quiet\n",
    "echo \"Delete v2 config\"\n",
    "gcloud beta api-gateway api-configs delete v2 --api=\"${api_name}\" --quiet\n",
    "echo \"Delete v1 config\"\n",
    "gcloud beta api-gateway api-configs delete v1 --api=\"${api_name}\" --quiet"
   ]
  },
  {
   "cell_type": "markdown",
   "metadata": {},
   "source": [
    "応答例）\n",
    "```text\n",
    "??\n",
    "```"
   ]
  },
  {
   "cell_type": "markdown",
   "metadata": {},
   "source": [
    "最後までお付き合いいただきありがとうございました。  \n",
    "ハンズオンは以上です！"
   ]
  }
 ],
 "metadata": {
  "kernelspec": {
   "display_name": "Bash",
   "language": "bash",
   "name": "bash"
  },
  "language_info": {
   "codemirror_mode": "shell",
   "file_extension": ".sh",
   "mimetype": "text/x-sh",
   "name": "bash"
  }
 },
 "nbformat": 4,
 "nbformat_minor": 4
}
