{
 "cells": [
  {
   "cell_type": "markdown",
   "metadata": {},
   "source": [
    "# 5. リソースの削除\n",
    "\n",
    "## 5.1. API Gateway のゲートウェイを削除\n",
    "\n",
    "これまで利用してきた環境変数を再設定し、ゲートウェイを削除します。"
   ]
  },
  {
   "cell_type": "code",
   "execution_count": null,
   "metadata": {},
   "outputs": [],
   "source": [
    "source /home/jupyter/config/.env\n",
    "echo \"Gateway name: ${gateway_name}\""
   ]
  },
  {
   "cell_type": "markdown",
   "metadata": {},
   "source": [
    "応答）\n",
    "```text\n",
    "Gateway name: prod-gateway\n",
    "```"
   ]
  },
  {
   "cell_type": "code",
   "execution_count": null,
   "metadata": {},
   "outputs": [],
   "source": [
    "gcloud api-gateway gateways delete \"${gateway_name}\" --location=asia-east1 --quiet"
   ]
  },
  {
   "cell_type": "markdown",
   "metadata": {},
   "source": [
    "応答）\n",
    "```text\n",
    "Waiting for API Gateway [prod-gateway] to be deleted...done. \n",
    "```\n",
    "\n",
    "## 5.2. API Gateway の構成を削除\n",
    "\n",
    "構成をそれぞれ削除します。"
   ]
  },
  {
   "cell_type": "code",
   "execution_count": null,
   "metadata": {},
   "outputs": [],
   "source": [
    "echo \"Delete v3 config\"\n",
    "gcloud api-gateway api-configs delete v3 --api=\"${api_name}\" --quiet\n",
    "echo \"Delete v2 config\"\n",
    "gcloud api-gateway api-configs delete v2 --api=\"${api_name}\" --quiet\n",
    "echo \"Delete v1 config\"\n",
    "gcloud api-gateway api-configs delete v1 --api=\"${api_name}\" --quiet"
   ]
  },
  {
   "cell_type": "markdown",
   "metadata": {},
   "source": [
    "応答）\n",
    "```text\n",
    "Delete v3 config\n",
    "Waiting for API Config [v3] to be deleted...done.                              \n",
    "Delete v2 config\n",
    "Waiting for API Config [v2] to be deleted...done.                              \n",
    "Delete v1 config\n",
    "Waiting for API Config [v1] to be deleted...done. \n",
    "```\n",
    "\n",
    "## 5.3. API の削除\n",
    "\n",
    "API そのものを削除します。"
   ]
  },
  {
   "cell_type": "code",
   "execution_count": null,
   "metadata": {},
   "outputs": [],
   "source": [
    "gcloud api-gateway apis delete \"${api_name}\" --quiet"
   ]
  },
  {
   "cell_type": "markdown",
   "metadata": {},
   "source": [
    "応答例）\n",
    "```text\n",
    "Waiting for API [my-apis] to be deleted...\n",
    "done.\n",
    "```\n",
    "\n",
    "## 5.4. Cloud Run サービスの削除\n",
    "\n",
    "バックエンドとして設定されていた Cloud Run サービス群を削除します。"
   ]
  },
  {
   "cell_type": "code",
   "execution_count": null,
   "metadata": {},
   "outputs": [],
   "source": [
    "gcloud run services delete backend-apis --quiet\n",
    "gcloud run services delete backend-errs --quiet"
   ]
  },
  {
   "cell_type": "markdown",
   "metadata": {},
   "source": [
    "応答）\n",
    "```text\n",
    "Deleting [backend-apis]...done.                                                \n",
    "Deleted service [backend-apis].\n",
    "Deleting [backend-errs]...done.                                                \n",
    "Deleted service [backend-errs].\n",
    "```"
   ]
  },
  {
   "cell_type": "markdown",
   "metadata": {},
   "source": [
    "ハンズオンは以上です！  \n",
    "最後までお付き合いいただきありがとうございました。"
   ]
  }
 ],
 "metadata": {
  "kernelspec": {
   "display_name": "Bash",
   "language": "bash",
   "name": "bash"
  },
  "language_info": {
   "codemirror_mode": "shell",
   "file_extension": ".sh",
   "mimetype": "text/x-sh",
   "name": "bash"
  }
 },
 "nbformat": 4,
 "nbformat_minor": 4
}
