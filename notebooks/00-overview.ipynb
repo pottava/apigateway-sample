{
 "cells": [
  {
   "cell_type": "markdown",
   "metadata": {},
   "source": [
    "# ハンズオンの概要\n",
    "\n",
    "このハンズオンで実施する内容を概観します。\n",
    "\n",
    "## Jupyter notebook について\n",
    "\n",
    "[Jupyter Notebook](https://jupyter-notebook.readthedocs.io/en/stable/) はブラウザから操作のできる、Python やシェルスクリプトなどの実行環境です。  \n",
    "\n",
    "**セル**（いま左側にフォーカスがあたっていますよね？この単位がセルです）ごとに  \n",
    "上方のメニューにある `▶︎` でコマンドを実行することができます。\n",
    "\n",
    "`Shift + Enter` キーでも実行しながら先に進むことができます。  \n",
    "試しに何度か押してみましょう！"
   ]
  },
  {
   "cell_type": "code",
   "execution_count": null,
   "metadata": {},
   "outputs": [],
   "source": [
    "date"
   ]
  },
  {
   "cell_type": "markdown",
   "metadata": {},
   "source": [
    "応答例）\n",
    "```text\n",
    "Sun Jan  3 16:12:06 UTC 2021\n",
    "```"
   ]
  },
  {
   "cell_type": "code",
   "execution_count": null,
   "metadata": {},
   "outputs": [],
   "source": [
    "ls"
   ]
  },
  {
   "cell_type": "markdown",
   "metadata": {},
   "source": [
    "応答例）\n",
    "```text\n",
    "00-overview.ipynb            README.md\n",
    "01-deploy-apigateway.ipynb   notebook-assets\n",
    "05-teardown-resources.ipynb  resources\n",
    "```"
   ]
  },
  {
   "cell_type": "markdown",
   "metadata": {},
   "source": [
    "今回利用するコンテンツはすべて起動した Docker イメージの中にあり、  \n",
    "gcloud 以外の処理は **すべてコンテナの中で完結** しています。  \n",
    "ホスト側の環境には影響を与えませんので安心してご利用ください。 \n",
    "\n",
    "すべてのノートは画面左上の `File` などからダウンロードすることもできます。 \n",
    "\n",
    "（すべてのソースコードは [こちら](https://github.com/pottava/apigateway-sample) で公開されています）"
   ]
  },
  {
   "cell_type": "markdown",
   "metadata": {},
   "source": [
    "### ハンズオンの流れ\n",
    "\n",
    "サンプルケースの流れに添い、追体験をしていきます。\n",
    "\n",
    "| ノート名 | |\n",
    "| :-- | :-- |\n",
    "| 01-deploy-apigateway.ipynb | Cloud Run と API Gateway の基本的な使い方 |\n",
    "| 05-teardown-resources.ipynb | 利用したリソースの削除 |"
   ]
  },
  {
   "cell_type": "markdown",
   "metadata": {},
   "source": [
    "## このハンズオンに含まれていないもの\n",
    "\n",
    "通常 CI/CD にはある類のものも、ハンズオンの簡素化のため除外しています。  \n",
    "実際に本番稼働させるにあたっては別途十分な検討をしてください。\n",
    "\n",
    "- 本来デプロイ前後に可能な各種テスト、開発者へのフィードバック\n",
    "- ブランチ別のテストや PR に対してのテスト、レギュレーションの設定\n",
    "- 各種メトリクスやインジケータのモニタリング、通知、初期対応\n",
    "- イシュー・インシデントのトラック、トレース情報の収集の自動化\n",
    "\n",
    "などなど"
   ]
  },
  {
   "cell_type": "markdown",
   "metadata": {},
   "source": [
    "[次へ: 01-deploy-apigateway.ipynb](01-deploy-apigateway.ipynb)"
   ]
  }
 ],
 "metadata": {
  "kernelspec": {
   "display_name": "Bash",
   "language": "bash",
   "name": "bash"
  },
  "language_info": {
   "codemirror_mode": "shell",
   "file_extension": ".sh",
   "mimetype": "text/x-sh",
   "name": "bash"
  }
 },
 "nbformat": 4,
 "nbformat_minor": 4
}
